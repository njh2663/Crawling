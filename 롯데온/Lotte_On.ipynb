{
 "cells": [
  {
   "cell_type": "markdown",
   "metadata": {},
   "source": [
    "# Setting"
   ]
  },
  {
   "cell_type": "code",
   "execution_count": 16,
   "metadata": {},
   "outputs": [],
   "source": [
    "import pandas as pd\n",
    "import selenium\n",
    "from selenium import webdriver\n",
    "from selenium.webdriver.chrome.service import Service\n",
    "from selenium.webdriver.common.keys import Keys\n",
    "from selenium.webdriver.common.by import By\n",
    "from webdriver_manager.chrome import ChromeDriverManager\n",
    "import time, re\n",
    "import requests as rq\n",
    "from bs4 import BeautifulSoup as bs"
   ]
  },
  {
   "cell_type": "code",
   "execution_count": 17,
   "metadata": {},
   "outputs": [],
   "source": [
    "# 수집하고자 하는 상품의 URL\n",
    "# url = 'https://www.lotteon.com/p/product/LM8801056087623?sitmNo=LM8801056087623_001&mall_no=1&dp_infw_cd=SCH%EC%95%84%EC%9D%B4%EC%8B%9C%EC%8A%A4%20%EB%A1%AF%EB%8D%B0&areaCode=SCH'\n",
    "url = 'https://www.lotteon.com/p/product/LM8801007529202?sitmNo=LM8801007529202_001&mall_no=1&dp_infw_cd=SCH%EA%B9%80%EC%B9%98&areaCode=SCH'\n",
    "\n",
    "# 수집할 리뷰 개수\n",
    "n = 100"
   ]
  },
  {
   "cell_type": "code",
   "execution_count": 18,
   "metadata": {},
   "outputs": [
    {
     "name": "stdout",
     "output_type": "stream",
     "text": [
      "크롬 드라이버 설치 경로 :  C:\\Users\\njh26\\.wdm\\drivers\\chromedriver\\win64\\122.0.6261.128\\chromedriver-win32/chromedriver.exe\n"
     ]
    }
   ],
   "source": [
    "# 크롬 드라이버 설치\n",
    "driver_path = ChromeDriverManager().install()\n",
    "print('크롬 드라이버 설치 경로 : ', driver_path)"
   ]
  },
  {
   "cell_type": "code",
   "execution_count": 19,
   "metadata": {},
   "outputs": [],
   "source": [
    "# 브라우저 인스턴스 생성, url 오픈\n",
    "driver = webdriver.Chrome(service=Service(driver_path))\n",
    "driver.get(url)\n",
    "driver.implicitly_wait(10)\n",
    "\n",
    "# 팝업창 닫기\n",
    "try:\n",
    "    popupclose = driver.find_element(By.CLASS_NAME, 'popupClose')\n",
    "    popupclose.click()\n",
    "except selenium.common.exceptions.NoSuchElementException:\n",
    "    pass"
   ]
  },
  {
   "cell_type": "markdown",
   "metadata": {},
   "source": [
    "# Crawling"
   ]
  },
  {
   "cell_type": "code",
   "execution_count": 20,
   "metadata": {},
   "outputs": [],
   "source": [
    "# 리뷰를 저장할 리스트 생성\n",
    "reviews = []\n",
    "ratings = []\n",
    "days = []\n",
    "sellers = []\n",
    "first_keywords = []\n",
    "second_keywords = []\n",
    "third_keywords = []\n",
    "\n",
    "# 크롤링 함수\n",
    "def crawling():\n",
    "    # 리뷰\n",
    "    review = driver.find_elements(By.CLASS_NAME, 'texting')\n",
    "    for a in review:\n",
    "        review_text = a.text\n",
    "        cleaned_text = re.sub(r'[\\U0001F300-\\U0001F6FF]', '', review_text)  # 이모지 제거 <- 파일 저장시 오류발생\n",
    "        reviews.append(cleaned_text)\n",
    "\n",
    "    # 별점\n",
    "    rating = driver.find_elements(By.CSS_SELECTOR, '#reviewMain > div > div.contents > div.staring > em')\n",
    "    for a in rating:\n",
    "        ratings.append(a.text)\n",
    "\n",
    "    # 리뷰작성일\n",
    "    day = driver.find_elements(By.CLASS_NAME, 'date')\n",
    "    for a in day:\n",
    "        days.append(a.text)\n",
    "\n",
    "    # 판매자\n",
    "    seller = driver.find_elements(By.CSS_SELECTOR, '#reviewMain > div > div.contents > div.seller > span > span')\n",
    "    for a in seller:\n",
    "        sellers.append(a.text)\n",
    "\n",
    "    # 키워드 1 \n",
    "    first_keyword = driver.find_elements(By.CSS_SELECTOR, '#reviewMain > div > div.reviewBox.specification > dl:nth-child(1) > dd')\n",
    "    for a in first_keyword:\n",
    "        first_keywords.append(a.text)\n",
    "\n",
    "    # 키워드 2\n",
    "    second_keyword = driver.find_elements(By.CSS_SELECTOR, '#reviewMain > div > div.reviewBox.specification > dl:nth-child(2) > dd')\n",
    "    for a in second_keyword:\n",
    "        second_keywords.append(a.text)\n",
    "\n",
    "    # 키워드 3\n",
    "    third_keyword = driver.find_elements(By.CSS_SELECTOR, '#reviewMain > div > div.reviewBox.specification > dl:nth-child(3) > dd')\n",
    "    for a in third_keyword:\n",
    "        third_keywords.append(a.text)"
   ]
  },
  {
   "cell_type": "code",
   "execution_count": 21,
   "metadata": {},
   "outputs": [
    {
     "name": "stdout",
     "output_type": "stream",
     "text": [
      "1 page의 리뷰를 모두 가져왔습니다!\n",
      "2 page의 리뷰를 모두 가져왔습니다!\n",
      "3 page의 리뷰를 모두 가져왔습니다!\n",
      "4 page의 리뷰를 모두 가져왔습니다!\n",
      "5 page의 리뷰를 모두 가져왔습니다!\n",
      "6 page의 리뷰를 모두 가져왔습니다!\n",
      "7 page의 리뷰를 모두 가져왔습니다!\n",
      "8 page의 리뷰를 모두 가져왔습니다!\n",
      "9 page의 리뷰를 모두 가져왔습니다!\n",
      "10 page의 리뷰를 모두 가져왔습니다!\n",
      "11 page의 리뷰를 모두 가져왔습니다!\n",
      "12 page의 리뷰를 모두 가져왔습니다!\n",
      "13 page의 리뷰를 모두 가져왔습니다!\n",
      "14 page의 리뷰를 모두 가져왔습니다!\n",
      "15 page의 리뷰를 모두 가져왔습니다!\n",
      "16 page의 리뷰를 모두 가져왔습니다!\n",
      "17 page의 리뷰를 모두 가져왔습니다!\n",
      "18 page의 리뷰를 모두 가져왔습니다!\n",
      "19 page의 리뷰를 모두 가져왔습니다!\n",
      "20 page의 리뷰를 모두 가져왔습니다!\n",
      "\n",
      "수집한 데이터는 다음과 같습니다. \n",
      "                               reviews ratings        days   sellers  \\\n",
      "0  맛있어요 맛있어요 맛있어요 맛있어요 맛있어요 맛있어요 맛있어요       5  2024.03.01  롯데마트 이천점   \n",
      "1                     맛있는 김치 잘 먹었습니다        5  2024.02.13  롯데마트 송도점   \n",
      "2         잘 먹을께요 감사합니다\\n만족해요 계속 사는중이요       5  2024.01.27  롯데마트 이천점   \n",
      "3       맛있어요 맛있어요 맛있어요 맛있어요 맛있어요 맛있어요       5  2024.01.25  롯데마트 이천점   \n",
      "\n",
      "  first_keywords second_keywords third_keywords  \n",
      "0         “맛있어요”          “꼼꼼해요”    “재구매의사 있어요”  \n",
      "1         “맛있어요”          “꼼꼼해요”    “재구매의사 있어요”  \n",
      "2         “맛있어요”          “꼼꼼해요”    “재구매의사 있어요”  \n",
      "3         “맛있어요”          “꼼꼼해요”    “재구매의사 있어요”  \n"
     ]
    }
   ],
   "source": [
    "# 페이지 수\n",
    "pages = int((int(n) - 1) / 5 + 1)   #페이지당 리뷰 5개\n",
    "\n",
    "# 다음 페이지 버튼\n",
    "next = driver.find_element(By.XPATH, '//*[@id=\"reviewMain\"]/div[8]/div[1]/div/a[9]')  \n",
    "\n",
    "# 크롤링\n",
    "for i in range(1, pages + 1):\n",
    "    if i == 1:\n",
    "        crawling()\n",
    "        print(f'{i} page의 리뷰를 모두 가져왔습니다!')\n",
    "    else:\n",
    "        # 다음 페이지로 이동\n",
    "        next.click()\n",
    "        time.sleep(1)\n",
    "\n",
    "        crawling()\n",
    "        print(f'{i} page의 리뷰를 모두 가져왔습니다!')\n",
    "\n",
    "# 크롤링 결과\n",
    "df = pd.DataFrame({'reviews': reviews, 'ratings': ratings, 'days': days,\n",
    "                   'sellers': sellers, \n",
    "                   'first_keywords': first_keywords, 'second_keywords': second_keywords, 'third_keywords': third_keywords})\n",
    "print(f'\\n수집한 데이터는 다음과 같습니다. \\n {df.head(4)}')"
   ]
  },
  {
   "cell_type": "code",
   "execution_count": 22,
   "metadata": {},
   "outputs": [
    {
     "name": "stdout",
     "output_type": "stream",
     "text": [
      "크롬창 마지막 페이지수 : 20\n",
      "수집 목표 페이지수 : 20\n"
     ]
    }
   ],
   "source": [
    "now_page = driver.find_element(By.CSS_SELECTOR, '#reviewMain > div.paginationArea.short > div.paginationWrap > div > a > span.active').text\n",
    "print(f'크롬창 마지막 페이지수 : {int(now_page)}')\n",
    "print(f'수집 목표 페이지수 : {pages}')\n",
    "\n",
    "if (int(now_page) == pages) == False :\n",
    "    print('Need more time sleep...!')\n",
    "else :\n",
    "    pass"
   ]
  },
  {
   "cell_type": "markdown",
   "metadata": {},
   "source": [
    "페이지가 넘어가지 못한 경우 한 페이지가 2번 이상 수집되어, 마지막 페이지 수가 일치하지 않음  \n",
    "위 코드 또는 육안을 통해 마지막 페이지 수와 일치하는지 확인 필요  "
   ]
  },
  {
   "cell_type": "code",
   "execution_count": 23,
   "metadata": {},
   "outputs": [],
   "source": [
    "# 키워드명 가져오기\n",
    "keyword_name = driver.find_elements(By.CSS_SELECTOR, '#reviewMain > div.reviewList > div.reviewBox.specification > dl > dt')\n",
    "keyword_name_list = [a.text for a in keyword_name][:3]\n",
    "\n",
    "# 상품명 가져오기\n",
    "product_name = driver.find_element(By.CLASS_NAME, 'pd-widget1__product-name').text\n",
    "product_name = product_name.replace('*', 'X')    # * 가 있는 경우 to_csv에서 오류 발생\n",
    "### df.to_csv에서 오류가 발생한 경우 위 코드에서 문자를 추가로 변환해야 함"
   ]
  },
  {
   "cell_type": "code",
   "execution_count": 24,
   "metadata": {},
   "outputs": [],
   "source": [
    "# 드라이버 종료\n",
    "driver.quit()"
   ]
  },
  {
   "cell_type": "code",
   "execution_count": 25,
   "metadata": {},
   "outputs": [],
   "source": [
    "df.rename(columns = {'first_keywords':keyword_name_list[0],\n",
    "                     'second_keywords':keyword_name_list[1],\n",
    "                     'third_keywords':keyword_name_list[2]}, inplace = True)\n",
    "\n",
    "df.to_csv(f\"{product_name}_{n}.csv\", encoding='utf-8-sig')"
   ]
  }
 ],
 "metadata": {
  "kernelspec": {
   "display_name": "crawl",
   "language": "python",
   "name": "python3"
  },
  "language_info": {
   "codemirror_mode": {
    "name": "ipython",
    "version": 3
   },
   "file_extension": ".py",
   "mimetype": "text/x-python",
   "name": "python",
   "nbconvert_exporter": "python",
   "pygments_lexer": "ipython3",
   "version": "3.12.2"
  }
 },
 "nbformat": 4,
 "nbformat_minor": 2
}
