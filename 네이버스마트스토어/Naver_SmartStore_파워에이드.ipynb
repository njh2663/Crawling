{
 "cells": [
  {
   "cell_type": "markdown",
   "metadata": {},
   "source": [
    "# Setting"
   ]
  },
  {
   "cell_type": "code",
   "execution_count": 1,
   "metadata": {},
   "outputs": [],
   "source": [
    "from urllib.parse import urlparse, urlunparse\n",
    "import pandas as pd\n",
    "from selenium import webdriver\n",
    "from selenium.webdriver.chrome.service import Service\n",
    "from selenium.webdriver.common.by import By\n",
    "from webdriver_manager.chrome import ChromeDriverManager\n",
    "from selenium.common.exceptions import NoSuchElementException \n",
    "import time, logging"
   ]
  },
  {
   "cell_type": "code",
   "execution_count": 2,
   "metadata": {},
   "outputs": [
    {
     "name": "stderr",
     "output_type": "stream",
     "text": [
      "2024-03-18 19:40:15,161 | 크롤링 시작\n"
     ]
    }
   ],
   "source": [
    "# 기본 로거 생성\n",
    "logging.basicConfig(level=logging.INFO, format='%(asctime)s | %(message)s')\n",
    "logger = logging.getLogger()\n",
    "logger.info('크롤링 시작')"
   ]
  },
  {
   "cell_type": "code",
   "execution_count": 3,
   "metadata": {},
   "outputs": [
    {
     "name": "stderr",
     "output_type": "stream",
     "text": [
      "2024-03-18 19:40:15,166 | 변경된 URL : https://smartstore.naver.com/coffeemall/products/4442922120/\n"
     ]
    }
   ],
   "source": [
    "# 수집할 리뷰 개수\n",
    "n = 100\n",
    "\n",
    "# 수집하고자 하는 상품의 URL\n",
    "raw_url = 'https://smartstore.naver.com/coffeemall/products/4442922120?NaPm=ct%3Dltwgl1iw%7Cci%3D7a1714772f09653c3e3214b3d5832642bd0db583%7Ctr%3Dslsl%7Csn%3D164274%7Chk%3D6932c84a73a753e12b841eb03f4d91e64e983955'\n",
    "# raw_url = 'https://smartstore.naver.com/motherfatherlab/products/8325101187?NaPm=ct%3Dltwi1xug%7Cci%3D118679c7098df43fa89bb9fd7361a95306b3328b%7Ctr%3Dslsl%7Csn%3D4740545%7Chk%3Da0e59755c2fd2edee1441d9f8f25a1b3c0e71552'\n",
    "\n",
    "# URL 분해 -> schem, netloc, path, parms, query, fragement\n",
    "parsed_url = urlparse(raw_url)\n",
    "\n",
    "# parms, query, fragement 3가지 값을 공백으로 설정하여 URL 재구성\n",
    "url = urlunparse((parsed_url.scheme, parsed_url.netloc, parsed_url.path + '/', '', '', ''))\n",
    "\n",
    "logger.info(f'변경된 URL : {url}')"
   ]
  },
  {
   "cell_type": "code",
   "execution_count": 4,
   "metadata": {},
   "outputs": [
    {
     "name": "stderr",
     "output_type": "stream",
     "text": [
      "2024-03-18 19:40:15,172 | ====== WebDriver manager ======\n",
      "2024-03-18 19:40:15,640 | Get LATEST chromedriver version for google-chrome\n",
      "2024-03-18 19:40:15,879 | Get LATEST chromedriver version for google-chrome\n",
      "2024-03-18 19:40:16,125 | Driver [C:\\Users\\njh26\\.wdm\\drivers\\chromedriver\\win64\\122.0.6261.128\\chromedriver-win32/chromedriver.exe] found in cache\n",
      "2024-03-18 19:40:16,126 | 크롬 드라이버 설치 경로 : C:\\Users\\njh26\\.wdm\\drivers\\chromedriver\\win64\\122.0.6261.128\\chromedriver-win32/chromedriver.exe\n"
     ]
    }
   ],
   "source": [
    "# 크롬 드라이버 설치\n",
    "driver_path = ChromeDriverManager().install()\n",
    "logger.info(f'크롬 드라이버 설치 경로 : {driver_path}')\n",
    "\n",
    "# 브라우저 인스턴스 생성, url 오픈\n",
    "driver = webdriver.Chrome(service=Service(driver_path))\n",
    "driver.get(url)\n",
    "driver.implicitly_wait(10)"
   ]
  },
  {
   "cell_type": "markdown",
   "metadata": {},
   "source": [
    "# Crawling"
   ]
  },
  {
   "cell_type": "code",
   "execution_count": 5,
   "metadata": {},
   "outputs": [
    {
     "name": "stderr",
     "output_type": "stream",
     "text": [
      "2024-03-18 19:40:17,833 | 상품명 : 파워에이드 마운틴 블라스트 240ml x 30캔 음료수 이온음료 [원산지국산]\n"
     ]
    }
   ],
   "source": [
    "# 상품명 가져오기\n",
    "product_name = driver.find_element(By.CLASS_NAME, '_22kNQuEXmb._copyable').text\n",
    "product_name = product_name.replace(':', '')    # * 가 있는 경우 to_csv에서 오류 발생\n",
    "### df.to_csv에서 오류가 발생한 경우 위 코드에서 문자를 추가로 변환해야 함\n",
    "logger.info(f'상품명 : {product_name}')"
   ]
  },
  {
   "cell_type": "code",
   "execution_count": 6,
   "metadata": {},
   "outputs": [],
   "source": [
    "# 리뷰 탭으로 이동\n",
    "review_tab = driver.find_element(By.XPATH, '//*[@id=\"content\"]/div/div[3]/div[3]/ul/li[2]/a')\n",
    "review_tab.click()\n",
    "\n",
    "# 최신순 정렬로 변경\n",
    "# 리뷰 탭으로 이동해야만 최신순 버튼을 찾을 수 있음\n",
    "latest = driver.find_element(By.XPATH, '//*[@id=\"REVIEW\"]/div/div[3]/div[1]/div[1]/ul/li[2]/a')\n",
    "latest.click()\n",
    "time.sleep(0.1)"
   ]
  },
  {
   "cell_type": "code",
   "execution_count": 7,
   "metadata": {},
   "outputs": [],
   "source": [
    "# 리뷰를 저장할 리스트 생성\n",
    "reviews = []\n",
    "ratings = []\n",
    "days = []\n",
    "options = []\n",
    "buyer_categorys = []\n",
    "first_keywords = []\n",
    "second_keywords = []\n",
    "third_keywords = []\n",
    "\n",
    "# 크롤링 함수\n",
    "def crawling():\n",
    "\n",
    "    # 리뷰 박스\n",
    "    review_boxs = driver.find_elements(By.CSS_SELECTOR, 'ul._2ms2i3dD92 > li')\n",
    "\n",
    "    # 각 리뷰 박스별로 데이터 수집\n",
    "    for (j, review_box) in enumerate(review_boxs):\n",
    "\n",
    "        # 리뷰\n",
    "        review = review_box.find_element(By.CSS_SELECTOR,'div._1kMfD5ErZ6 > span._2L3vDiadT9')\n",
    "        reviews.append(review.text)\n",
    "\n",
    "        # 별점\n",
    "        rating = review_box.find_element(By.CSS_SELECTOR,'div._3HKlxxt8Ii > div._2V6vMO_iLm > em._15NU42F3kT')\n",
    "        ratings.append(rating.text)\n",
    "        \n",
    "        # 리뷰작성일\n",
    "        day = review_box.find_element(By.CSS_SELECTOR,'div.iWGqB6S4Lq > span._2L3vDiadT9')\n",
    "        days.append('20' + day.text)  # 24.03.07 형식으로 수집되어 앞에 20 추가\n",
    "        \n",
    "        # 구매옵션\n",
    "        # 키워드와 같이 있어 수집 이후에 \\n 으로 슬라이싱\n",
    "        option_and_keyword = review_box.find_element(By.CSS_SELECTOR,'div._3HKlxxt8Ii > div._2FXNMst_ak')\n",
    "        options.append(option_and_keyword.text.split('\\n')[0])\n",
    "\n",
    "        # 구매자 정보\n",
    "        try : \n",
    "            buyer_category = review_box.find_element(By.CSS_SELECTOR,'dl.XbGQRlzveO > div._3F8sJXhFeW')       \n",
    "            buyer_categorys.append(buyer_category.text)\n",
    "        except NoSuchElementException : \n",
    "            buyer_categorys.append('')  # 구매자 정보가 없는 경우 공백을 입력\n",
    "\n",
    "        # 키워드\n",
    "        keyword_all = review_box.find_elements(By.CSS_SELECTOR,'dl.XbGQRlzveO > div._1QLwBCINAr > dd')\n",
    "        first_keywords.append(keyword_all[0].text)\n",
    "        second_keywords.append(keyword_all[1].text)\n",
    "        third_keywords.append(keyword_all[2].text)\n",
    "        \n",
    "        logger.info(f'\\t {j+1}번째 리뷰 획득')"
   ]
  },
  {
   "cell_type": "code",
   "execution_count": 8,
   "metadata": {},
   "outputs": [
    {
     "name": "stderr",
     "output_type": "stream",
     "text": [
      "2024-03-18 19:40:29,022 | \t 1번째 리뷰 획득\n",
      "2024-03-18 19:40:39,098 | \t 2번째 리뷰 획득\n",
      "2024-03-18 19:40:49,172 | \t 3번째 리뷰 획득\n",
      "2024-03-18 19:40:49,233 | \t 4번째 리뷰 획득\n",
      "2024-03-18 19:40:49,294 | \t 5번째 리뷰 획득\n",
      "2024-03-18 19:40:49,362 | \t 6번째 리뷰 획득\n",
      "2024-03-18 19:40:49,423 | \t 7번째 리뷰 획득\n",
      "2024-03-18 19:40:59,479 | \t 8번째 리뷰 획득\n",
      "2024-03-18 19:41:09,549 | \t 9번째 리뷰 획득\n",
      "2024-03-18 19:41:19,618 | \t 10번째 리뷰 획득\n",
      "2024-03-18 19:41:29,692 | \t 11번째 리뷰 획득\n",
      "2024-03-18 19:41:39,754 | \t 12번째 리뷰 획득\n",
      "2024-03-18 19:41:49,822 | \t 13번째 리뷰 획득\n",
      "2024-03-18 19:41:59,901 | \t 14번째 리뷰 획득\n",
      "2024-03-18 19:42:09,969 | \t 15번째 리뷰 획득\n",
      "2024-03-18 19:42:20,037 | \t 16번째 리뷰 획득\n",
      "2024-03-18 19:42:30,100 | \t 17번째 리뷰 획득\n",
      "2024-03-18 19:42:40,172 | \t 18번째 리뷰 획득\n",
      "2024-03-18 19:42:50,239 | \t 19번째 리뷰 획득\n",
      "2024-03-18 19:43:00,314 | \t 20번째 리뷰 획득\n",
      "2024-03-18 19:43:00,315 | --1 페이지 리뷰 수집 완료--\n",
      "2024-03-18 19:43:10,939 | \t 1번째 리뷰 획득\n",
      "2024-03-18 19:43:21,012 | \t 2번째 리뷰 획득\n",
      "2024-03-18 19:43:31,075 | \t 3번째 리뷰 획득\n",
      "2024-03-18 19:43:41,143 | \t 4번째 리뷰 획득\n",
      "2024-03-18 19:43:51,218 | \t 5번째 리뷰 획득\n",
      "2024-03-18 19:44:01,282 | \t 6번째 리뷰 획득\n",
      "2024-03-18 19:44:11,350 | \t 7번째 리뷰 획득\n",
      "2024-03-18 19:44:21,417 | \t 8번째 리뷰 획득\n",
      "2024-03-18 19:44:31,479 | \t 9번째 리뷰 획득\n",
      "2024-03-18 19:44:41,549 | \t 10번째 리뷰 획득\n",
      "2024-03-18 19:44:51,621 | \t 11번째 리뷰 획득\n",
      "2024-03-18 19:45:01,677 | \t 12번째 리뷰 획득\n",
      "2024-03-18 19:45:11,740 | \t 13번째 리뷰 획득\n",
      "2024-03-18 19:45:21,806 | \t 14번째 리뷰 획득\n",
      "2024-03-18 19:45:31,867 | \t 15번째 리뷰 획득\n",
      "2024-03-18 19:45:41,947 | \t 16번째 리뷰 획득\n",
      "2024-03-18 19:45:52,005 | \t 17번째 리뷰 획득\n",
      "2024-03-18 19:46:02,068 | \t 18번째 리뷰 획득\n",
      "2024-03-18 19:46:12,126 | \t 19번째 리뷰 획득\n",
      "2024-03-18 19:46:22,197 | \t 20번째 리뷰 획득\n",
      "2024-03-18 19:46:22,198 | --2 페이지 리뷰 수집 완료--\n",
      "2024-03-18 19:46:32,817 | \t 1번째 리뷰 획득\n",
      "2024-03-18 19:46:42,886 | \t 2번째 리뷰 획득\n",
      "2024-03-18 19:46:52,954 | \t 3번째 리뷰 획득\n",
      "2024-03-18 19:47:03,008 | \t 4번째 리뷰 획득\n",
      "2024-03-18 19:47:13,067 | \t 5번째 리뷰 획득\n",
      "2024-03-18 19:47:23,117 | \t 6번째 리뷰 획득\n",
      "2024-03-18 19:47:33,167 | \t 7번째 리뷰 획득\n",
      "2024-03-18 19:47:43,229 | \t 8번째 리뷰 획득\n",
      "2024-03-18 19:47:53,280 | \t 9번째 리뷰 획득\n",
      "2024-03-18 19:48:03,336 | \t 10번째 리뷰 획득\n",
      "2024-03-18 19:48:13,389 | \t 11번째 리뷰 획득\n",
      "2024-03-18 19:48:23,497 | \t 12번째 리뷰 획득\n",
      "2024-03-18 19:48:33,558 | \t 13번째 리뷰 획득\n",
      "2024-03-18 19:48:43,666 | \t 14번째 리뷰 획득\n",
      "2024-03-18 19:48:53,732 | \t 15번째 리뷰 획득\n",
      "2024-03-18 19:49:03,835 | \t 16번째 리뷰 획득\n",
      "2024-03-18 19:49:13,893 | \t 17번째 리뷰 획득\n",
      "2024-03-18 19:49:23,956 | \t 18번째 리뷰 획득\n",
      "2024-03-18 19:49:34,021 | \t 19번째 리뷰 획득\n",
      "2024-03-18 19:49:44,122 | \t 20번째 리뷰 획득\n",
      "2024-03-18 19:49:44,122 | --3 페이지 리뷰 수집 완료--\n",
      "2024-03-18 19:49:54,727 | \t 1번째 리뷰 획득\n",
      "2024-03-18 19:50:04,778 | \t 2번째 리뷰 획득\n",
      "2024-03-18 19:50:14,829 | \t 3번째 리뷰 획득\n",
      "2024-03-18 19:50:24,894 | \t 4번째 리뷰 획득\n",
      "2024-03-18 19:50:34,952 | \t 5번째 리뷰 획득\n",
      "2024-03-18 19:50:45,003 | \t 6번째 리뷰 획득\n",
      "2024-03-18 19:50:55,062 | \t 7번째 리뷰 획득\n",
      "2024-03-18 19:51:05,128 | \t 8번째 리뷰 획득\n",
      "2024-03-18 19:51:15,187 | \t 9번째 리뷰 획득\n",
      "2024-03-18 19:51:25,241 | \t 10번째 리뷰 획득\n",
      "2024-03-18 19:51:35,307 | \t 11번째 리뷰 획득\n",
      "2024-03-18 19:51:45,361 | \t 12번째 리뷰 획득\n",
      "2024-03-18 19:51:55,417 | \t 13번째 리뷰 획득\n",
      "2024-03-18 19:52:05,524 | \t 14번째 리뷰 획득\n",
      "2024-03-18 19:52:15,579 | \t 15번째 리뷰 획득\n",
      "2024-03-18 19:52:25,687 | \t 16번째 리뷰 획득\n",
      "2024-03-18 19:52:35,743 | \t 17번째 리뷰 획득\n",
      "2024-03-18 19:52:45,852 | \t 18번째 리뷰 획득\n",
      "2024-03-18 19:52:55,961 | \t 19번째 리뷰 획득\n",
      "2024-03-18 19:53:06,017 | \t 20번째 리뷰 획득\n",
      "2024-03-18 19:53:06,018 | --4 페이지 리뷰 수집 완료--\n",
      "2024-03-18 19:53:16,627 | \t 1번째 리뷰 획득\n",
      "2024-03-18 19:53:26,691 | \t 2번째 리뷰 획득\n",
      "2024-03-18 19:53:36,747 | \t 3번째 리뷰 획득\n",
      "2024-03-18 19:53:46,801 | \t 4번째 리뷰 획득\n",
      "2024-03-18 19:53:56,856 | \t 5번째 리뷰 획득\n",
      "2024-03-18 19:54:06,924 | \t 6번째 리뷰 획득\n",
      "2024-03-18 19:54:16,985 | \t 7번째 리뷰 획득\n",
      "2024-03-18 19:54:27,047 | \t 8번째 리뷰 획득\n",
      "2024-03-18 19:54:37,152 | \t 9번째 리뷰 획득\n",
      "2024-03-18 19:54:47,262 | \t 10번째 리뷰 획득\n",
      "2024-03-18 19:54:57,364 | \t 11번째 리뷰 획득\n",
      "2024-03-18 19:55:07,471 | \t 12번째 리뷰 획득\n",
      "2024-03-18 19:55:17,579 | \t 13번째 리뷰 획득\n",
      "2024-03-18 19:55:27,654 | \t 14번째 리뷰 획득\n",
      "2024-03-18 19:55:37,704 | \t 15번째 리뷰 획득\n",
      "2024-03-18 19:55:47,810 | \t 16번째 리뷰 획득\n",
      "2024-03-18 19:55:57,868 | \t 17번째 리뷰 획득\n",
      "2024-03-18 19:56:07,923 | \t 18번째 리뷰 획득\n",
      "2024-03-18 19:56:17,980 | \t 19번째 리뷰 획득\n",
      "2024-03-18 19:56:28,029 | \t 20번째 리뷰 획득\n",
      "2024-03-18 19:56:28,030 | --5 페이지 리뷰 수집 완료--\n"
     ]
    }
   ],
   "source": [
    "# 페이지 수\n",
    "pages = int((n-1) / 20 + 1)   #페이지당 리뷰 20개\n",
    "\n",
    "# 다음 페이지 버튼\n",
    "next = driver.find_element(By.CLASS_NAME, 'fAUKm1ewwo._2Ar8-aEUTq')\n",
    "\n",
    "# 크롤링\n",
    "for i in range(1, pages + 1):\n",
    "    if i == 1:\n",
    "        crawling()\n",
    "        logger.info(f'--{i} 페이지 리뷰 수집 완료--')\n",
    "    else:\n",
    "        # 다음 페이지로 이동\n",
    "        next.click()\n",
    "        time.sleep(0.5)\n",
    "        crawling()\n",
    "        logger.info(f'--{i} 페이지 리뷰 수집 완료--')"
   ]
  },
  {
   "cell_type": "code",
   "execution_count": 9,
   "metadata": {},
   "outputs": [],
   "source": [
    "# 키워드명 가져오기\n",
    "keyword_name = driver.find_elements(By.CSS_SELECTOR,'dl.XbGQRlzveO > div._1QLwBCINAr > dt') \n",
    "keyword_name_list = [a.text for a in keyword_name][:3]\n",
    "\n",
    "# 드라이버 종료\n",
    "driver.quit()"
   ]
  },
  {
   "cell_type": "code",
   "execution_count": 10,
   "metadata": {},
   "outputs": [
    {
     "name": "stderr",
     "output_type": "stream",
     "text": [
      "2024-03-18 19:56:30,434 | 크롤링 완료\n"
     ]
    },
    {
     "name": "stdout",
     "output_type": "stream",
     "text": [
      "\n",
      "수집한 데이터는 다음과 같습니다. \n",
      "                    reviews ratings         days                   options  \\\n",
      "0              빠른배송 감사합니다~       5  2024.03.07.  구매품: 롯데-게토레이레몬향240ml x30   \n",
      "1              빠른배송 감사합니다~       5  2024.03.07.    구매품: 코카-파워에이드240ml x30   \n",
      "2              빠른배송 감사합니다~       5  2024.03.07.      구매품: 코카-토레타240ml x30   \n",
      "3  사무실에 쟁겨놓고 떨어지면 채워놓고 있어요       5  2023.09.26.  구매품: 롯데-게토레이레몬향240㎖(30캔)   \n",
      "\n",
      "    buyer_categorys     유통기한    포장 맛 만족도  \n",
      "0                    아주 넉넉해요  꼼꼼해요  맛있어요  \n",
      "1                    아주 넉넉해요  꼼꼼해요  맛있어요  \n",
      "2                    아주 넉넉해요  꼼꼼해요  맛있어요  \n",
      "3  구매자거주인원 6인 이상대가족  아주 넉넉해요  꼼꼼해요  맛있어요  \n"
     ]
    }
   ],
   "source": [
    "# 크롤링 결과 저장\n",
    "df = pd.DataFrame({\n",
    "                'reviews': reviews, \n",
    "                'ratings': ratings, \n",
    "                'days': days,\n",
    "                'options': options, \n",
    "                'buyer_categorys' : buyer_categorys,\n",
    "                keyword_name_list[0] : first_keywords, \n",
    "                keyword_name_list[1] : second_keywords, \n",
    "                keyword_name_list[2] : third_keywords\n",
    "                })\n",
    "\n",
    "print(f'\\n수집한 데이터는 다음과 같습니다. \\n {df.head(4)}')\n",
    "\n",
    "df.to_csv(f\"{product_name}_{n}.csv\", encoding='utf-8-sig')\n",
    "logger.info('크롤링 완료')"
   ]
  },
  {
   "cell_type": "markdown",
   "metadata": {},
   "source": [
    "### 파워에이드의 경우, 리뷰 날짜가 23.09.27 ~ 24.03.06 이 없음, 도중에 판매중단된 시점으로 판단됨"
   ]
  }
 ],
 "metadata": {
  "kernelspec": {
   "display_name": "crawl",
   "language": "python",
   "name": "python3"
  },
  "language_info": {
   "codemirror_mode": {
    "name": "ipython",
    "version": 3
   },
   "file_extension": ".py",
   "mimetype": "text/x-python",
   "name": "python",
   "nbconvert_exporter": "python",
   "pygments_lexer": "ipython3",
   "version": "3.12.2"
  }
 },
 "nbformat": 4,
 "nbformat_minor": 2
}
