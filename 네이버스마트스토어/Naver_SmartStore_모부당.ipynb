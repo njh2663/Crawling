{
 "cells": [
  {
   "cell_type": "markdown",
   "metadata": {},
   "source": [
    "# Setting"
   ]
  },
  {
   "cell_type": "code",
   "execution_count": 1,
   "metadata": {},
   "outputs": [],
   "source": [
    "from urllib.parse import urlparse, urlunparse\n",
    "import pandas as pd\n",
    "from selenium import webdriver\n",
    "from selenium.webdriver.chrome.service import Service\n",
    "from selenium.webdriver.common.by import By\n",
    "from webdriver_manager.chrome import ChromeDriverManager\n",
    "from selenium.common.exceptions import NoSuchElementException \n",
    "import time, logging"
   ]
  },
  {
   "cell_type": "code",
   "execution_count": 2,
   "metadata": {},
   "outputs": [
    {
     "name": "stderr",
     "output_type": "stream",
     "text": [
      "2024-03-18 19:19:37,907 | 크롤링 시작\n"
     ]
    }
   ],
   "source": [
    "# 기본 로거 생성\n",
    "logging.basicConfig(level=logging.INFO, format='%(asctime)s | %(message)s')\n",
    "logger = logging.getLogger()\n",
    "logger.info('크롤링 시작')"
   ]
  },
  {
   "cell_type": "code",
   "execution_count": 3,
   "metadata": {},
   "outputs": [
    {
     "name": "stderr",
     "output_type": "stream",
     "text": [
      "2024-03-18 19:19:37,914 | 변경된 URL : https://smartstore.naver.com/motherfatherlab/products/8325101187/\n"
     ]
    }
   ],
   "source": [
    "# 수집할 리뷰 개수\n",
    "n = 100\n",
    "\n",
    "# 수집하고자 하는 상품의 URL\n",
    "# raw_url = 'https://smartstore.naver.com/coffeemall/products/4442922120?NaPm=ct%3Dltwgl1iw%7Cci%3D7a1714772f09653c3e3214b3d5832642bd0db583%7Ctr%3Dslsl%7Csn%3D164274%7Chk%3D6932c84a73a753e12b841eb03f4d91e64e983955'\n",
    "raw_url = 'https://smartstore.naver.com/motherfatherlab/products/8325101187?NaPm=ct%3Dltwi1xug%7Cci%3D118679c7098df43fa89bb9fd7361a95306b3328b%7Ctr%3Dslsl%7Csn%3D4740545%7Chk%3Da0e59755c2fd2edee1441d9f8f25a1b3c0e71552'\n",
    "\n",
    "# URL 분해 -> schem, netloc, path, parms, query, fragement\n",
    "parsed_url = urlparse(raw_url)\n",
    "\n",
    "# parms, query, fragement 3가지 값을 공백으로 설정하여 URL 재구성\n",
    "url = urlunparse((parsed_url.scheme, parsed_url.netloc, parsed_url.path + '/', '', '', ''))\n",
    "\n",
    "logger.info(f'변경된 URL : {url}')"
   ]
  },
  {
   "cell_type": "code",
   "execution_count": 4,
   "metadata": {},
   "outputs": [
    {
     "name": "stderr",
     "output_type": "stream",
     "text": [
      "2024-03-18 19:19:37,919 | ====== WebDriver manager ======\n",
      "2024-03-18 19:19:38,389 | Get LATEST chromedriver version for google-chrome\n",
      "2024-03-18 19:19:38,640 | Get LATEST chromedriver version for google-chrome\n",
      "2024-03-18 19:19:38,901 | Driver [C:\\Users\\njh26\\.wdm\\drivers\\chromedriver\\win64\\122.0.6261.128\\chromedriver-win32/chromedriver.exe] found in cache\n",
      "2024-03-18 19:19:38,902 | 크롬 드라이버 설치 경로 : C:\\Users\\njh26\\.wdm\\drivers\\chromedriver\\win64\\122.0.6261.128\\chromedriver-win32/chromedriver.exe\n"
     ]
    }
   ],
   "source": [
    "# 크롬 드라이버 설치\n",
    "driver_path = ChromeDriverManager().install()\n",
    "logger.info(f'크롬 드라이버 설치 경로 : {driver_path}')\n",
    "\n",
    "# 브라우저 인스턴스 생성, url 오픈\n",
    "driver = webdriver.Chrome(service=Service(driver_path))\n",
    "driver.get(url)\n",
    "driver.implicitly_wait(10)"
   ]
  },
  {
   "cell_type": "markdown",
   "metadata": {},
   "source": [
    "# Crawling"
   ]
  },
  {
   "cell_type": "code",
   "execution_count": 5,
   "metadata": {},
   "outputs": [
    {
     "name": "stderr",
     "output_type": "stream",
     "text": [
      "2024-03-18 19:19:40,809 | 상품명 : 모부당 떡볶이에빠진 치즈가래 떡볶이맛 떡 답례 영양 개업 맛집 아침대용 맛있는 칠순 이사 냉동 [원산지상세설명에 표시]\n"
     ]
    }
   ],
   "source": [
    "# 상품명 가져오기\n",
    "product_name = driver.find_element(By.CLASS_NAME, '_22kNQuEXmb._copyable').text\n",
    "product_name = product_name.replace(':', '')    # * 가 있는 경우 to_csv에서 오류 발생\n",
    "### df.to_csv에서 오류가 발생한 경우 위 코드에서 문자를 추가로 변환해야 함\n",
    "logger.info(f'상품명 : {product_name}')"
   ]
  },
  {
   "cell_type": "code",
   "execution_count": 6,
   "metadata": {},
   "outputs": [],
   "source": [
    "# 리뷰 탭으로 이동\n",
    "review_tab = driver.find_element(By.XPATH, '//*[@id=\"content\"]/div/div[3]/div[3]/ul/li[2]/a')\n",
    "review_tab.click()\n",
    "\n",
    "# 최신순 정렬로 변경\n",
    "# 리뷰 탭으로 이동해야만 최신순 버튼을 찾을 수 있음\n",
    "latest = driver.find_element(By.XPATH, '//*[@id=\"REVIEW\"]/div/div[3]/div[1]/div[1]/ul/li[2]/a')\n",
    "latest.click()\n",
    "time.sleep(0.1)"
   ]
  },
  {
   "cell_type": "code",
   "execution_count": 7,
   "metadata": {},
   "outputs": [],
   "source": [
    "# 리뷰를 저장할 리스트 생성\n",
    "reviews = []\n",
    "ratings = []\n",
    "days = []\n",
    "options = []\n",
    "buyer_categorys = []\n",
    "first_keywords = []\n",
    "second_keywords = []\n",
    "third_keywords = []\n",
    "\n",
    "# 크롤링 함수\n",
    "def crawling():\n",
    "\n",
    "    # 리뷰 박스\n",
    "    review_boxs = driver.find_elements(By.CSS_SELECTOR, 'ul._2ms2i3dD92 > li')\n",
    "\n",
    "    # 각 리뷰 박스별로 데이터 수집\n",
    "    for (j, review_box) in enumerate(review_boxs):\n",
    "\n",
    "        # 리뷰\n",
    "        review = review_box.find_element(By.CSS_SELECTOR,'div._1kMfD5ErZ6 > span._2L3vDiadT9')\n",
    "        reviews.append(review.text)\n",
    "\n",
    "        # 별점\n",
    "        rating = review_box.find_element(By.CSS_SELECTOR,'div._3HKlxxt8Ii > div._2V6vMO_iLm > em._15NU42F3kT')\n",
    "        ratings.append(rating.text)\n",
    "        \n",
    "        # 리뷰작성일\n",
    "        day = review_box.find_element(By.CSS_SELECTOR,'div.iWGqB6S4Lq > span._2L3vDiadT9')\n",
    "        days.append('20' + day.text)  # 24.03.07 형식으로 수집되어 앞에 20 추가\n",
    "        \n",
    "        # 구매옵션\n",
    "        # 키워드와 같이 있어 수집 이후에 \\n 으로 슬라이싱\n",
    "        option_and_keyword = review_box.find_element(By.CSS_SELECTOR,'div._3HKlxxt8Ii > div._2FXNMst_ak')\n",
    "        options.append(option_and_keyword.text.split('\\n')[0])\n",
    "\n",
    "        # 구매자 정보\n",
    "        try : \n",
    "            buyer_category = review_box.find_element(By.CSS_SELECTOR,'dl.XbGQRlzveO > div._3F8sJXhFeW')       \n",
    "            buyer_categorys.append(buyer_category.text)\n",
    "        except NoSuchElementException : \n",
    "            buyer_categorys.append('')  # 구매자 정보가 없는 경우 공백을 입력\n",
    "\n",
    "        # 키워드\n",
    "        keyword_all = review_box.find_elements(By.CSS_SELECTOR,'dl.XbGQRlzveO > div._1QLwBCINAr > dd')\n",
    "        first_keywords.append(keyword_all[0].text)\n",
    "        second_keywords.append(keyword_all[1].text)\n",
    "        third_keywords.append(keyword_all[2].text)\n",
    "        \n",
    "        logger.info(f'\\t {j+1}번째 리뷰 획득')"
   ]
  },
  {
   "cell_type": "code",
   "execution_count": 8,
   "metadata": {},
   "outputs": [
    {
     "name": "stderr",
     "output_type": "stream",
     "text": [
      "2024-03-18 19:19:42,040 | \t 1번째 리뷰 획득\n",
      "2024-03-18 19:19:52,129 | \t 2번째 리뷰 획득\n",
      "2024-03-18 19:19:52,223 | \t 3번째 리뷰 획득\n",
      "2024-03-18 19:19:52,308 | \t 4번째 리뷰 획득\n",
      "2024-03-18 19:20:02,361 | \t 5번째 리뷰 획득\n",
      "2024-03-18 19:20:02,422 | \t 6번째 리뷰 획득\n",
      "2024-03-18 19:20:12,488 | \t 7번째 리뷰 획득\n",
      "2024-03-18 19:20:22,548 | \t 8번째 리뷰 획득\n",
      "2024-03-18 19:20:32,607 | \t 9번째 리뷰 획득\n",
      "2024-03-18 19:20:32,668 | \t 10번째 리뷰 획득\n",
      "2024-03-18 19:20:32,728 | \t 11번째 리뷰 획득\n",
      "2024-03-18 19:20:42,801 | \t 12번째 리뷰 획득\n",
      "2024-03-18 19:20:52,868 | \t 13번째 리뷰 획득\n",
      "2024-03-18 19:21:02,948 | \t 14번째 리뷰 획득\n",
      "2024-03-18 19:21:13,017 | \t 15번째 리뷰 획득\n",
      "2024-03-18 19:21:23,093 | \t 16번째 리뷰 획득\n",
      "2024-03-18 19:21:33,164 | \t 17번째 리뷰 획득\n",
      "2024-03-18 19:21:33,225 | \t 18번째 리뷰 획득\n",
      "2024-03-18 19:21:43,288 | \t 19번째 리뷰 획득\n",
      "2024-03-18 19:21:53,354 | \t 20번째 리뷰 획득\n",
      "2024-03-18 19:21:53,355 | --1 페이지 리뷰 수집 완료--\n",
      "2024-03-18 19:22:03,977 | \t 1번째 리뷰 획득\n",
      "2024-03-18 19:22:04,039 | \t 2번째 리뷰 획득\n",
      "2024-03-18 19:22:14,098 | \t 3번째 리뷰 획득\n",
      "2024-03-18 19:22:14,160 | \t 4번째 리뷰 획득\n",
      "2024-03-18 19:22:14,221 | \t 5번째 리뷰 획득\n",
      "2024-03-18 19:22:24,286 | \t 6번째 리뷰 획득\n",
      "2024-03-18 19:22:34,371 | \t 7번째 리뷰 획득\n",
      "2024-03-18 19:22:34,432 | \t 8번째 리뷰 획득\n",
      "2024-03-18 19:22:44,496 | \t 9번째 리뷰 획득\n",
      "2024-03-18 19:22:54,576 | \t 10번째 리뷰 획득\n",
      "2024-03-18 19:23:04,668 | \t 11번째 리뷰 획득\n",
      "2024-03-18 19:23:14,739 | \t 12번째 리뷰 획득\n",
      "2024-03-18 19:23:24,811 | \t 13번째 리뷰 획득\n",
      "2024-03-18 19:23:24,872 | \t 14번째 리뷰 획득\n",
      "2024-03-18 19:23:24,932 | \t 15번째 리뷰 획득\n",
      "2024-03-18 19:23:24,994 | \t 16번째 리뷰 획득\n",
      "2024-03-18 19:23:35,075 | \t 17번째 리뷰 획득\n",
      "2024-03-18 19:23:45,146 | \t 18번째 리뷰 획득\n",
      "2024-03-18 19:23:45,213 | \t 19번째 리뷰 획득\n",
      "2024-03-18 19:23:45,275 | \t 20번째 리뷰 획득\n",
      "2024-03-18 19:23:45,275 | --2 페이지 리뷰 수집 완료--\n",
      "2024-03-18 19:23:55,892 | \t 1번째 리뷰 획득\n",
      "2024-03-18 19:23:55,954 | \t 2번째 리뷰 획득\n",
      "2024-03-18 19:24:06,031 | \t 3번째 리뷰 획득\n",
      "2024-03-18 19:24:06,092 | \t 4번째 리뷰 획득\n",
      "2024-03-18 19:24:16,170 | \t 5번째 리뷰 획득\n",
      "2024-03-18 19:24:26,247 | \t 6번째 리뷰 획득\n",
      "2024-03-18 19:24:36,322 | \t 7번째 리뷰 획득\n",
      "2024-03-18 19:24:36,382 | \t 8번째 리뷰 획득\n",
      "2024-03-18 19:24:46,457 | \t 9번째 리뷰 획득\n",
      "2024-03-18 19:24:56,516 | \t 10번째 리뷰 획득\n",
      "2024-03-18 19:25:06,596 | \t 11번째 리뷰 획득\n",
      "2024-03-18 19:25:16,671 | \t 12번째 리뷰 획득\n",
      "2024-03-18 19:25:26,749 | \t 13번째 리뷰 획득\n",
      "2024-03-18 19:25:26,809 | \t 14번째 리뷰 획득\n",
      "2024-03-18 19:25:36,880 | \t 15번째 리뷰 획득\n",
      "2024-03-18 19:25:46,948 | \t 16번째 리뷰 획득\n",
      "2024-03-18 19:25:47,007 | \t 17번째 리뷰 획득\n",
      "2024-03-18 19:25:47,073 | \t 18번째 리뷰 획득\n",
      "2024-03-18 19:25:57,133 | \t 19번째 리뷰 획득\n",
      "2024-03-18 19:26:07,196 | \t 20번째 리뷰 획득\n",
      "2024-03-18 19:26:07,196 | --3 페이지 리뷰 수집 완료--\n",
      "2024-03-18 19:26:17,801 | \t 1번째 리뷰 획득\n",
      "2024-03-18 19:26:17,859 | \t 2번째 리뷰 획득\n",
      "2024-03-18 19:26:17,918 | \t 3번째 리뷰 획득\n",
      "2024-03-18 19:26:27,975 | \t 4번째 리뷰 획득\n",
      "2024-03-18 19:26:38,060 | \t 5번째 리뷰 획득\n",
      "2024-03-18 19:26:48,116 | \t 6번째 리뷰 획득\n",
      "2024-03-18 19:26:48,179 | \t 7번째 리뷰 획득\n",
      "2024-03-18 19:26:58,245 | \t 8번째 리뷰 획득\n",
      "2024-03-18 19:27:08,310 | \t 9번째 리뷰 획득\n",
      "2024-03-18 19:27:18,369 | \t 10번째 리뷰 획득\n",
      "2024-03-18 19:27:18,429 | \t 11번째 리뷰 획득\n",
      "2024-03-18 19:27:28,489 | \t 12번째 리뷰 획득\n",
      "2024-03-18 19:27:38,578 | \t 13번째 리뷰 획득\n",
      "2024-03-18 19:27:48,648 | \t 14번째 리뷰 획득\n",
      "2024-03-18 19:27:58,731 | \t 15번째 리뷰 획득\n",
      "2024-03-18 19:27:58,794 | \t 16번째 리뷰 획득\n",
      "2024-03-18 19:27:58,856 | \t 17번째 리뷰 획득\n",
      "2024-03-18 19:28:08,928 | \t 18번째 리뷰 획득\n",
      "2024-03-18 19:28:19,016 | \t 19번째 리뷰 획득\n",
      "2024-03-18 19:28:29,142 | \t 20번째 리뷰 획득\n",
      "2024-03-18 19:28:29,142 | --4 페이지 리뷰 수집 완료--\n",
      "2024-03-18 19:28:29,751 | \t 1번째 리뷰 획득\n",
      "2024-03-18 19:28:39,819 | \t 2번째 리뷰 획득\n",
      "2024-03-18 19:28:49,925 | \t 3번째 리뷰 획득\n",
      "2024-03-18 19:28:59,989 | \t 4번째 리뷰 획득\n",
      "2024-03-18 19:29:10,053 | \t 5번째 리뷰 획득\n",
      "2024-03-18 19:29:20,160 | \t 6번째 리뷰 획득\n",
      "2024-03-18 19:29:30,232 | \t 7번째 리뷰 획득\n",
      "2024-03-18 19:29:40,316 | \t 8번째 리뷰 획득\n",
      "2024-03-18 19:29:50,379 | \t 9번째 리뷰 획득\n",
      "2024-03-18 19:30:00,455 | \t 10번째 리뷰 획득\n",
      "2024-03-18 19:30:10,526 | \t 11번째 리뷰 획득\n",
      "2024-03-18 19:30:20,594 | \t 12번째 리뷰 획득\n",
      "2024-03-18 19:30:30,655 | \t 13번째 리뷰 획득\n",
      "2024-03-18 19:30:40,742 | \t 14번째 리뷰 획득\n",
      "2024-03-18 19:30:50,823 | \t 15번째 리뷰 획득\n",
      "2024-03-18 19:31:00,901 | \t 16번째 리뷰 획득\n",
      "2024-03-18 19:31:00,968 | \t 17번째 리뷰 획득\n",
      "2024-03-18 19:31:11,040 | \t 18번째 리뷰 획득\n",
      "2024-03-18 19:31:21,120 | \t 19번째 리뷰 획득\n",
      "2024-03-18 19:31:31,204 | \t 20번째 리뷰 획득\n",
      "2024-03-18 19:31:31,204 | --5 페이지 리뷰 수집 완료--\n"
     ]
    }
   ],
   "source": [
    "# 페이지 수\n",
    "pages = int((n-1) / 20 + 1)   #페이지당 리뷰 20개\n",
    "\n",
    "# 다음 페이지 버튼\n",
    "next = driver.find_element(By.CLASS_NAME, 'fAUKm1ewwo._2Ar8-aEUTq')\n",
    "\n",
    "# 크롤링\n",
    "for i in range(1, pages + 1):\n",
    "    if i == 1:\n",
    "        crawling()\n",
    "        logger.info(f'--{i} 페이지 리뷰 수집 완료--')\n",
    "    else:\n",
    "        # 다음 페이지로 이동\n",
    "        next.click()\n",
    "        time.sleep(0.5)\n",
    "        crawling()\n",
    "        logger.info(f'--{i} 페이지 리뷰 수집 완료--')"
   ]
  },
  {
   "cell_type": "code",
   "execution_count": 9,
   "metadata": {},
   "outputs": [],
   "source": [
    "# 키워드명 가져오기\n",
    "keyword_name = driver.find_elements(By.CSS_SELECTOR,'dl.XbGQRlzveO > div._1QLwBCINAr > dt') \n",
    "keyword_name_list = [a.text for a in keyword_name][:3]\n",
    "\n",
    "# 드라이버 종료\n",
    "driver.quit()"
   ]
  },
  {
   "cell_type": "code",
   "execution_count": 10,
   "metadata": {},
   "outputs": [
    {
     "name": "stderr",
     "output_type": "stream",
     "text": [
      "2024-03-18 19:31:33,608 | 크롤링 완료\n"
     ]
    },
    {
     "name": "stdout",
     "output_type": "stream",
     "text": [
      "\n",
      "수집한 데이터는 다음과 같습니다. \n",
      "                                              reviews ratings         days  \\\n",
      "0                    독특하지만 매우 맛있지는 않다\\n한번정도는 먹어볼만한 맛       5  2024.03.18.   \n",
      "1                                        간식으로 구매~~~~       4  2024.03.18.   \n",
      "2                              맛있네요 굿굿 배고플때 먹으면 딱이에요       5  2024.03.18.   \n",
      "3  생각보다 매워요 제가 맵찔이 이지만 \\n떡볶이를 먹는다면 매운떡볶이 맛 깔끔한 고추...       4  2024.03.17.   \n",
      "\n",
      "                     options  buyer_categorys    유통기한       포장 맛 만족도  \n",
      "0  수량: 1Box(12개입) / 맛선택: 치즈맛     구매자거주인원 2인싱글    평범해요  아주 넉넉해요  꼼꼼해요  \n",
      "1  수량: 1Box(12개입) / 맛선택: 치즈맛                     평범해요   꽤 남았어요  적당해요  \n",
      "2  수량: 1Box(12개입) / 맛선택: 치즈맛  구매자거주인원 2인신혼/부부  꽤 남았어요     꼼꼼해요  맛있어요  \n",
      "3  수량: 1Box(12개입) / 맛선택: 치즈맛     구매자거주인원 1인싱글  꽤 남았어요     꼼꼼해요  맛있어요  \n"
     ]
    }
   ],
   "source": [
    "# 크롤링 결과 저장\n",
    "df = pd.DataFrame({\n",
    "                'reviews': reviews, \n",
    "                'ratings': ratings, \n",
    "                'days': days,\n",
    "                'options': options, \n",
    "                'buyer_categorys' : buyer_categorys,\n",
    "                keyword_name_list[0] : first_keywords, \n",
    "                keyword_name_list[1] : second_keywords, \n",
    "                keyword_name_list[2] : third_keywords\n",
    "                })\n",
    "\n",
    "print(f'\\n수집한 데이터는 다음과 같습니다. \\n {df.head(4)}')\n",
    "\n",
    "df.to_csv(f\"{product_name}_{n}.csv\", encoding='utf-8-sig')\n",
    "logger.info('크롤링 완료')"
   ]
  }
 ],
 "metadata": {
  "kernelspec": {
   "display_name": "crawl",
   "language": "python",
   "name": "python3"
  },
  "language_info": {
   "codemirror_mode": {
    "name": "ipython",
    "version": 3
   },
   "file_extension": ".py",
   "mimetype": "text/x-python",
   "name": "python",
   "nbconvert_exporter": "python",
   "pygments_lexer": "ipython3",
   "version": "3.12.2"
  }
 },
 "nbformat": 4,
 "nbformat_minor": 2
}
